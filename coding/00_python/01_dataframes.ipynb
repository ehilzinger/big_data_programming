{
 "cells": [
  {
   "cell_type": "markdown",
   "metadata": {},
   "source": [
    "# Grundlagen von Pandas\n",
    "\n",
    "## Was ist Pandas?\n",
    "Pandas ist eine Python-Bibliothek, die Datenstrukturen und -analysen erleichtert.\n",
    "\n",
    "## Dataframes\n",
    "Ein DataFrame ist eine zweidimensionale Datenstruktur, ähnlich einer Tabelle oder einer Excel-Tabelle.\n",
    "\n",
    "Zunächst muss das Package ```pandas``` installiert:\n"
   ]
  },
  {
   "cell_type": "code",
   "execution_count": null,
   "metadata": {},
   "outputs": [],
   "source": [
    "%pip install pandas "
   ]
  },
  {
   "cell_type": "markdown",
   "metadata": {},
   "source": [
    "und dann importiert werden:"
   ]
  },
  {
   "cell_type": "code",
   "execution_count": 3,
   "metadata": {},
   "outputs": [],
   "source": [
    "import pandas as pd"
   ]
  },
  {
   "cell_type": "markdown",
   "metadata": {},
   "source": [
    "Anschließend kann ein Dataframe durch Spezifikation von Attributnamen und -werten wie folgt erzeugt werden:"
   ]
  },
  {
   "cell_type": "code",
   "execution_count": null,
   "metadata": {},
   "outputs": [],
   "source": [
    "data = {'Name': ['Alice', 'Bob', 'Charlie', 'David'],\n",
    "        'Alter': [25, 30, 35, 40],\n",
    "        'Stadt': ['Berlin', 'München', 'Hamburg', 'Köln']}\n",
    "\n",
    "df = pd.DataFrame(data)"
   ]
  },
  {
   "cell_type": "markdown",
   "metadata": {},
   "source": [
    "### Übung\n",
    "\n",
    "Erstelle einen Dataframe anhand folgender Tabelle:\n",
    "\n",
    "| Name      | Address              | Favorite Music Genre |\n",
    "|-----------|----------------------|----------------------|\n",
    "| Alice     | 123 Main St, City1   | Jazz                 |\n",
    "| Bob       | 456 Elm St, City2    | Rock                 |\n",
    "| Charlie   | 789 Oak St, City3    | Pop                  |\n",
    "| David     | 101 Pine St, City4   | Hip Hop              |\n",
    "| Elizabeth | 202 Cedar St, City5  | Classical            |\n"
   ]
  },
  {
   "cell_type": "code",
   "execution_count": null,
   "metadata": {},
   "outputs": [],
   "source": [
    "## Hier die Lösung eintragen"
   ]
  },
  {
   "cell_type": "markdown",
   "metadata": {},
   "source": [
    "## Daten einlesen und schreiben\n",
    "\n",
    "### Einlesen von Daten\n",
    "Pandas kann Daten aus verschiedenen Quellen einlesen, z.B. CSV, Excel, SQL-Datenbanken.\n",
    "\n",
    "Beispiel: Einlesen von Daten aus einer CSV-Datei"
   ]
  },
  {
   "cell_type": "code",
   "execution_count": 4,
   "metadata": {},
   "outputs": [],
   "source": [
    "df = pd.read_csv('./data/cost_of_living_us.csv')"
   ]
  },
  {
   "cell_type": "markdown",
   "metadata": {},
   "source": [
    "Die geladenen Daten können wie folgt ausschnittsweise angezeigt werden:"
   ]
  },
  {
   "cell_type": "code",
   "execution_count": 4,
   "metadata": {},
   "outputs": [
    {
     "data": {
      "text/html": [
       "<div>\n",
       "<style scoped>\n",
       "    .dataframe tbody tr th:only-of-type {\n",
       "        vertical-align: middle;\n",
       "    }\n",
       "\n",
       "    .dataframe tbody tr th {\n",
       "        vertical-align: top;\n",
       "    }\n",
       "\n",
       "    .dataframe thead th {\n",
       "        text-align: right;\n",
       "    }\n",
       "</style>\n",
       "<table border=\"1\" class=\"dataframe\">\n",
       "  <thead>\n",
       "    <tr style=\"text-align: right;\">\n",
       "      <th></th>\n",
       "      <th>case_id</th>\n",
       "      <th>state</th>\n",
       "      <th>isMetro</th>\n",
       "      <th>areaname</th>\n",
       "      <th>county</th>\n",
       "      <th>family_member_count</th>\n",
       "      <th>housing_cost</th>\n",
       "      <th>food_cost</th>\n",
       "      <th>transportation_cost</th>\n",
       "      <th>healthcare_cost</th>\n",
       "      <th>other_necessities_cost</th>\n",
       "      <th>childcare_cost</th>\n",
       "      <th>taxes</th>\n",
       "      <th>total_cost</th>\n",
       "      <th>median_family_income</th>\n",
       "    </tr>\n",
       "  </thead>\n",
       "  <tbody>\n",
       "    <tr>\n",
       "      <th>0</th>\n",
       "      <td>1</td>\n",
       "      <td>AL</td>\n",
       "      <td>True</td>\n",
       "      <td>Montgomery, AL MSA</td>\n",
       "      <td>Autauga County</td>\n",
       "      <td>1p0c</td>\n",
       "      <td>8505.72876</td>\n",
       "      <td>3454.91712</td>\n",
       "      <td>10829.16876</td>\n",
       "      <td>5737.47984</td>\n",
       "      <td>4333.81344</td>\n",
       "      <td>0.0000</td>\n",
       "      <td>6392.94504</td>\n",
       "      <td>39254.0532</td>\n",
       "      <td>73010.414062</td>\n",
       "    </tr>\n",
       "    <tr>\n",
       "      <th>1</th>\n",
       "      <td>1</td>\n",
       "      <td>AL</td>\n",
       "      <td>True</td>\n",
       "      <td>Montgomery, AL MSA</td>\n",
       "      <td>Autauga County</td>\n",
       "      <td>1p1c</td>\n",
       "      <td>12067.50240</td>\n",
       "      <td>5091.70788</td>\n",
       "      <td>11588.19288</td>\n",
       "      <td>8659.55640</td>\n",
       "      <td>6217.45896</td>\n",
       "      <td>6147.8298</td>\n",
       "      <td>7422.07836</td>\n",
       "      <td>57194.3256</td>\n",
       "      <td>73010.414062</td>\n",
       "    </tr>\n",
       "    <tr>\n",
       "      <th>2</th>\n",
       "      <td>1</td>\n",
       "      <td>AL</td>\n",
       "      <td>True</td>\n",
       "      <td>Montgomery, AL MSA</td>\n",
       "      <td>Autauga County</td>\n",
       "      <td>1p2c</td>\n",
       "      <td>12067.50240</td>\n",
       "      <td>7460.20308</td>\n",
       "      <td>12361.77720</td>\n",
       "      <td>11581.63260</td>\n",
       "      <td>7075.65816</td>\n",
       "      <td>15824.6940</td>\n",
       "      <td>9769.56228</td>\n",
       "      <td>76141.0308</td>\n",
       "      <td>73010.414062</td>\n",
       "    </tr>\n",
       "    <tr>\n",
       "      <th>3</th>\n",
       "      <td>1</td>\n",
       "      <td>AL</td>\n",
       "      <td>True</td>\n",
       "      <td>Montgomery, AL MSA</td>\n",
       "      <td>Autauga County</td>\n",
       "      <td>1p3c</td>\n",
       "      <td>15257.15040</td>\n",
       "      <td>9952.23924</td>\n",
       "      <td>13452.18600</td>\n",
       "      <td>14503.70760</td>\n",
       "      <td>9134.35620</td>\n",
       "      <td>18802.1892</td>\n",
       "      <td>13101.70320</td>\n",
       "      <td>94203.5328</td>\n",
       "      <td>73010.414062</td>\n",
       "    </tr>\n",
       "    <tr>\n",
       "      <th>4</th>\n",
       "      <td>1</td>\n",
       "      <td>AL</td>\n",
       "      <td>True</td>\n",
       "      <td>Montgomery, AL MSA</td>\n",
       "      <td>Autauga County</td>\n",
       "      <td>1p4c</td>\n",
       "      <td>15257.15040</td>\n",
       "      <td>12182.21400</td>\n",
       "      <td>13744.59840</td>\n",
       "      <td>17425.78560</td>\n",
       "      <td>9942.36396</td>\n",
       "      <td>18802.1892</td>\n",
       "      <td>13469.21880</td>\n",
       "      <td>100823.5200</td>\n",
       "      <td>73010.414062</td>\n",
       "    </tr>\n",
       "  </tbody>\n",
       "</table>\n",
       "</div>"
      ],
      "text/plain": [
       "   case_id state  isMetro            areaname          county  \\\n",
       "0        1    AL     True  Montgomery, AL MSA  Autauga County   \n",
       "1        1    AL     True  Montgomery, AL MSA  Autauga County   \n",
       "2        1    AL     True  Montgomery, AL MSA  Autauga County   \n",
       "3        1    AL     True  Montgomery, AL MSA  Autauga County   \n",
       "4        1    AL     True  Montgomery, AL MSA  Autauga County   \n",
       "\n",
       "  family_member_count  housing_cost    food_cost  transportation_cost  \\\n",
       "0                1p0c    8505.72876   3454.91712          10829.16876   \n",
       "1                1p1c   12067.50240   5091.70788          11588.19288   \n",
       "2                1p2c   12067.50240   7460.20308          12361.77720   \n",
       "3                1p3c   15257.15040   9952.23924          13452.18600   \n",
       "4                1p4c   15257.15040  12182.21400          13744.59840   \n",
       "\n",
       "   healthcare_cost  other_necessities_cost  childcare_cost        taxes  \\\n",
       "0       5737.47984              4333.81344          0.0000   6392.94504   \n",
       "1       8659.55640              6217.45896       6147.8298   7422.07836   \n",
       "2      11581.63260              7075.65816      15824.6940   9769.56228   \n",
       "3      14503.70760              9134.35620      18802.1892  13101.70320   \n",
       "4      17425.78560              9942.36396      18802.1892  13469.21880   \n",
       "\n",
       "    total_cost  median_family_income  \n",
       "0   39254.0532          73010.414062  \n",
       "1   57194.3256          73010.414062  \n",
       "2   76141.0308          73010.414062  \n",
       "3   94203.5328          73010.414062  \n",
       "4  100823.5200          73010.414062  "
      ]
     },
     "execution_count": 4,
     "metadata": {},
     "output_type": "execute_result"
    }
   ],
   "source": [
    "df.head()"
   ]
  },
  {
   "cell_type": "markdown",
   "metadata": {},
   "source": [
    "### Schreiben von Daten\n",
    "Pandas ermöglicht das Speichern von DataFrames in verschiedene Dateiformate.\n",
    "\n",
    "Beispiel: Schreiben in eine CSV-Datei"
   ]
  },
  {
   "cell_type": "code",
   "execution_count": null,
   "metadata": {},
   "outputs": [],
   "source": [
    "df.to_csv('geänderte_daten.csv', index=False)"
   ]
  },
  {
   "cell_type": "markdown",
   "metadata": {},
   "source": [
    "## Datenansicht und -manipulation\n",
    "\n",
    "### Datenansicht\n",
    "Pandas bietet verschiedene Funktionen zur Anzeige und Erkundung von Daten.\n",
    "\n",
    "Beispielsweise können folgendermaßen Statistiken und Kennzahlen zu den Daten angezeigt werden:\n"
   ]
  },
  {
   "cell_type": "code",
   "execution_count": 5,
   "metadata": {},
   "outputs": [
    {
     "data": {
      "text/html": [
       "<div>\n",
       "<style scoped>\n",
       "    .dataframe tbody tr th:only-of-type {\n",
       "        vertical-align: middle;\n",
       "    }\n",
       "\n",
       "    .dataframe tbody tr th {\n",
       "        vertical-align: top;\n",
       "    }\n",
       "\n",
       "    .dataframe thead th {\n",
       "        text-align: right;\n",
       "    }\n",
       "</style>\n",
       "<table border=\"1\" class=\"dataframe\">\n",
       "  <thead>\n",
       "    <tr style=\"text-align: right;\">\n",
       "      <th></th>\n",
       "      <th>case_id</th>\n",
       "      <th>housing_cost</th>\n",
       "      <th>food_cost</th>\n",
       "      <th>transportation_cost</th>\n",
       "      <th>healthcare_cost</th>\n",
       "      <th>other_necessities_cost</th>\n",
       "      <th>childcare_cost</th>\n",
       "      <th>taxes</th>\n",
       "      <th>total_cost</th>\n",
       "      <th>median_family_income</th>\n",
       "    </tr>\n",
       "  </thead>\n",
       "  <tbody>\n",
       "    <tr>\n",
       "      <th>count</th>\n",
       "      <td>31430.000000</td>\n",
       "      <td>31430.000000</td>\n",
       "      <td>31430.000000</td>\n",
       "      <td>31430.000000</td>\n",
       "      <td>31430.000000</td>\n",
       "      <td>31430.000000</td>\n",
       "      <td>31430.000000</td>\n",
       "      <td>31430.000000</td>\n",
       "      <td>31430.000000</td>\n",
       "      <td>31420.000000</td>\n",
       "    </tr>\n",
       "    <tr>\n",
       "      <th>mean</th>\n",
       "      <td>1589.311804</td>\n",
       "      <td>11073.673539</td>\n",
       "      <td>8287.504557</td>\n",
       "      <td>13593.856381</td>\n",
       "      <td>13394.031748</td>\n",
       "      <td>7015.318377</td>\n",
       "      <td>9879.584233</td>\n",
       "      <td>7657.714782</td>\n",
       "      <td>70901.683601</td>\n",
       "      <td>68315.997017</td>\n",
       "    </tr>\n",
       "    <tr>\n",
       "      <th>std</th>\n",
       "      <td>917.218414</td>\n",
       "      <td>4165.606147</td>\n",
       "      <td>3271.140249</td>\n",
       "      <td>1640.456562</td>\n",
       "      <td>5204.545710</td>\n",
       "      <td>2397.415490</td>\n",
       "      <td>6778.223399</td>\n",
       "      <td>3339.795571</td>\n",
       "      <td>21846.545235</td>\n",
       "      <td>16886.970245</td>\n",
       "    </tr>\n",
       "    <tr>\n",
       "      <th>min</th>\n",
       "      <td>1.000000</td>\n",
       "      <td>4209.311280</td>\n",
       "      <td>2220.276840</td>\n",
       "      <td>2216.461440</td>\n",
       "      <td>3476.379960</td>\n",
       "      <td>2611.642080</td>\n",
       "      <td>0.000000</td>\n",
       "      <td>1027.800756</td>\n",
       "      <td>30087.662400</td>\n",
       "      <td>25529.976562</td>\n",
       "    </tr>\n",
       "    <tr>\n",
       "      <th>25%</th>\n",
       "      <td>792.000000</td>\n",
       "      <td>8580.000000</td>\n",
       "      <td>5801.424360</td>\n",
       "      <td>12535.159800</td>\n",
       "      <td>9667.440000</td>\n",
       "      <td>5286.354120</td>\n",
       "      <td>5341.621590</td>\n",
       "      <td>5597.970360</td>\n",
       "      <td>53776.019400</td>\n",
       "      <td>57223.988281</td>\n",
       "    </tr>\n",
       "    <tr>\n",
       "      <th>50%</th>\n",
       "      <td>1593.000000</td>\n",
       "      <td>10416.000000</td>\n",
       "      <td>8129.156280</td>\n",
       "      <td>13698.164400</td>\n",
       "      <td>13082.700000</td>\n",
       "      <td>6733.056120</td>\n",
       "      <td>10166.340120</td>\n",
       "      <td>6898.468860</td>\n",
       "      <td>70977.682800</td>\n",
       "      <td>65955.605469</td>\n",
       "    </tr>\n",
       "    <tr>\n",
       "      <th>75%</th>\n",
       "      <td>2386.000000</td>\n",
       "      <td>12444.000000</td>\n",
       "      <td>10703.624280</td>\n",
       "      <td>14765.758500</td>\n",
       "      <td>16657.816800</td>\n",
       "      <td>8413.090230</td>\n",
       "      <td>14276.377800</td>\n",
       "      <td>8790.207270</td>\n",
       "      <td>85371.341100</td>\n",
       "      <td>76136.070312</td>\n",
       "    </tr>\n",
       "    <tr>\n",
       "      <th>max</th>\n",
       "      <td>3171.000000</td>\n",
       "      <td>61735.587600</td>\n",
       "      <td>31178.619600</td>\n",
       "      <td>19816.482000</td>\n",
       "      <td>37252.274400</td>\n",
       "      <td>28829.443200</td>\n",
       "      <td>48831.085200</td>\n",
       "      <td>47753.390400</td>\n",
       "      <td>223717.548000</td>\n",
       "      <td>177662.468750</td>\n",
       "    </tr>\n",
       "  </tbody>\n",
       "</table>\n",
       "</div>"
      ],
      "text/plain": [
       "            case_id  housing_cost     food_cost  transportation_cost  \\\n",
       "count  31430.000000  31430.000000  31430.000000         31430.000000   \n",
       "mean    1589.311804  11073.673539   8287.504557         13593.856381   \n",
       "std      917.218414   4165.606147   3271.140249          1640.456562   \n",
       "min        1.000000   4209.311280   2220.276840          2216.461440   \n",
       "25%      792.000000   8580.000000   5801.424360         12535.159800   \n",
       "50%     1593.000000  10416.000000   8129.156280         13698.164400   \n",
       "75%     2386.000000  12444.000000  10703.624280         14765.758500   \n",
       "max     3171.000000  61735.587600  31178.619600         19816.482000   \n",
       "\n",
       "       healthcare_cost  other_necessities_cost  childcare_cost         taxes  \\\n",
       "count     31430.000000            31430.000000    31430.000000  31430.000000   \n",
       "mean      13394.031748             7015.318377     9879.584233   7657.714782   \n",
       "std        5204.545710             2397.415490     6778.223399   3339.795571   \n",
       "min        3476.379960             2611.642080        0.000000   1027.800756   \n",
       "25%        9667.440000             5286.354120     5341.621590   5597.970360   \n",
       "50%       13082.700000             6733.056120    10166.340120   6898.468860   \n",
       "75%       16657.816800             8413.090230    14276.377800   8790.207270   \n",
       "max       37252.274400            28829.443200    48831.085200  47753.390400   \n",
       "\n",
       "          total_cost  median_family_income  \n",
       "count   31430.000000          31420.000000  \n",
       "mean    70901.683601          68315.997017  \n",
       "std     21846.545235          16886.970245  \n",
       "min     30087.662400          25529.976562  \n",
       "25%     53776.019400          57223.988281  \n",
       "50%     70977.682800          65955.605469  \n",
       "75%     85371.341100          76136.070312  \n",
       "max    223717.548000         177662.468750  "
      ]
     },
     "execution_count": 5,
     "metadata": {},
     "output_type": "execute_result"
    }
   ],
   "source": [
    "df.describe()"
   ]
  },
  {
   "cell_type": "markdown",
   "metadata": {},
   "source": [
    "### Datenmanipulation\n",
    "Pandas ermöglicht die Bearbeitung von Daten, z.B. Filtern, Hinzufügen, Löschen von Spalten/Zeilen.\n",
    "\n",
    "Beispiel: Filtern von Zeilen basierend auf einer Bedingung"
   ]
  },
  {
   "cell_type": "code",
   "execution_count": 9,
   "metadata": {},
   "outputs": [
    {
     "data": {
      "text/plain": [
       "array(['AL'], dtype=object)"
      ]
     },
     "execution_count": 9,
     "metadata": {},
     "output_type": "execute_result"
    }
   ],
   "source": [
    "df_filtered = df[df['state'] == 'AL']\n",
    "df_filtered['state'].unique()"
   ]
  },
  {
   "cell_type": "markdown",
   "metadata": {},
   "source": [
    "### Übung\n",
    "\n",
    "Erzeuge einen Filter auf dem Dataframe, sodass nur Datensätze mit der folgenden Bedingung angezeigt werden:\n",
    "\n",
    "```total_cost > 30000 & isMetro = False```"
   ]
  },
  {
   "cell_type": "code",
   "execution_count": null,
   "metadata": {},
   "outputs": [],
   "source": [
    "## Hier die Lösung eintragen"
   ]
  },
  {
   "cell_type": "markdown",
   "metadata": {},
   "source": [
    "## Statistische Analysen\n",
    "\n",
    "### Grundlegende Statistiken\n",
    "Pandas bietet Funktionen zur Berechnung von grundlegenden Statistiken.\n",
    "\n",
    "Beispiel: Berechnung des Durchschnittseinkommens\n"
   ]
  },
  {
   "cell_type": "code",
   "execution_count": 10,
   "metadata": {},
   "outputs": [
    {
     "data": {
      "text/plain": [
       "68315.99701685332"
      ]
     },
     "execution_count": 10,
     "metadata": {},
     "output_type": "execute_result"
    }
   ],
   "source": [
    "df['median_family_income'].mean()"
   ]
  },
  {
   "cell_type": "markdown",
   "metadata": {},
   "source": [
    "### Übung\n",
    "\n",
    "Berechne den Durchschnitt der ```transportation_cost```\n",
    "\n"
   ]
  },
  {
   "cell_type": "code",
   "execution_count": null,
   "metadata": {},
   "outputs": [],
   "source": [
    "## Hier die Lösung eintragen"
   ]
  },
  {
   "cell_type": "markdown",
   "metadata": {},
   "source": [
    "## Datenvisualisierung\n",
    "### Plotting\n",
    "Pandas ermöglicht einfache Datenvisualisierungen.\n",
    "\n",
    "Beispiel: Erstellen eines Balkendiagramms"
   ]
  },
  {
   "cell_type": "code",
   "execution_count": 17,
   "metadata": {},
   "outputs": [
    {
     "name": "stderr",
     "output_type": "stream",
     "text": [
      "/var/folders/j6/tf2trbvj5dzg9p8rtx36rhpw0000gn/T/ipykernel_97039/119803717.py:1: FutureWarning: Indexing with multiple keys (implicitly converted to a tuple of keys) will be deprecated, use a list instead.\n",
      "  df_simplified = pd.DataFrame(df.groupby('state')['median_family_income', 'total_cost'].mean().reset_index()).sort_values(by='median_family_income', ascending=False).head(10)\n"
     ]
    },
    {
     "data": {
      "text/plain": [
       "<AxesSubplot: xlabel='state'>"
      ]
     },
     "execution_count": 17,
     "metadata": {},
     "output_type": "execute_result"
    },
    {
     "data": {
      "image/png": "[encoded data removed]",
      "text/plain": [
       "<Figure size 640x480 with 1 Axes>"
      ]
     },
     "metadata": {},
     "output_type": "display_data"
    }
   ],
   "source": [
    "df_simplified = pd.DataFrame(df.groupby('state')['median_family_income', 'total_cost'].mean().reset_index()).sort_values(by='median_family_income', ascending=False).head(10)\n",
    "\n",
    "df_simplified.plot(kind='bar', x='state', y='median_family_income')"
   ]
  },
  {
   "cell_type": "markdown",
   "metadata": {},
   "source": [
    "Es können ebenfalls mehrere Werte auf der Y-Achse des Balkendiagramms dargestellt werden:"
   ]
  },
  {
   "cell_type": "code",
   "execution_count": 18,
   "metadata": {},
   "outputs": [
    {
     "data": {
      "text/plain": [
       "<matplotlib.legend.Legend at 0x7f825acefdf0>"
      ]
     },
     "execution_count": 18,
     "metadata": {},
     "output_type": "execute_result"
    },
    {
     "data": {
      "image/png": "[encoded data removed]",
      "text/plain": [
       "<Figure size 640x480 with 1 Axes>"
      ]
     },
     "metadata": {},
     "output_type": "display_data"
    }
   ],
   "source": [
    "ax = df_simplified.plot(x='state', kind='bar')\n",
    "\n",
    "ax.set_xlabel('States')\n",
    "ax.set_ylabel('US-Dollars')\n",
    "ax.legend(['median_family_income', 'total_cost'])"
   ]
  },
  {
   "cell_type": "code",
   "execution_count": null,
   "metadata": {},
   "outputs": [],
   "source": []
  }
 ],
 "metadata": {
  "kernelspec": {
   "display_name": "Python 3.10.6 ('hector')",
   "language": "python",
   "name": "python3"
  },
  "language_info": {
   "codemirror_mode": {
    "name": "ipython",
    "version": 3
   },
   "file_extension": ".py",
   "mimetype": "text/x-python",
   "name": "python",
   "nbconvert_exporter": "python",
   "pygments_lexer": "ipython3",
   "version": "3.10.6"
  },
  "orig_nbformat": 4,
  "vscode": {
   "interpreter": {
    "hash": "442f59ff6058100981594e9535d28b46fc243840058aa6758dcff500d21b0d70"
   }
  }
 },
 "nbformat": 4,
 "nbformat_minor": 2
}
