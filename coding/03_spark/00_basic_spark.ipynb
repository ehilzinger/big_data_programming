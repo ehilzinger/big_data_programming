{
 "cells": [
  {
   "cell_type": "code",
   "execution_count": null,
   "metadata": {},
   "outputs": [],
   "source": [
    "%pip install pyspark"
   ]
  },
  {
   "cell_type": "code",
   "execution_count": null,
   "metadata": {},
   "outputs": [],
   "source": [
    "# Import necessary Spark modules\n",
    "from pyspark import SparkContext\n",
    "\n",
    "# Initialize SparkContext\n",
    "sc = SparkContext(\"local\", \"WordCountApp\")\n",
    "\n",
    "# Load a text file from your local filesystem\n",
    "text_file = sc.textFile(\"path/to/your/textfile.txt\")\n",
    "\n",
    "# Perform word count using Spark transformations and actions\n",
    "word_counts = text_file.flatMap(lambda line: line.split(\" \")) \\\n",
    "                     .map(lambda word: (word, 1)) \\\n",
    "                     .reduceByKey(lambda a, b: a + b)\n",
    "\n",
    "# Collect the results and print them\n",
    "results = word_counts.collect()\n",
    "for result in results:\n",
    "    print(f\"{result[0]}: {result[1]}\")\n",
    "\n",
    "# Stop the SparkContext\n",
    "sc.stop()"
   ]
  }
 ],
 "metadata": {
  "kernelspec": {
   "display_name": "Python 3.10.6 ('hector')",
   "language": "python",
   "name": "python3"
  },
  "language_info": {
   "name": "python",
   "version": "3.10.6"
  },
  "orig_nbformat": 4,
  "vscode": {
   "interpreter": {
    "hash": "442f59ff6058100981594e9535d28b46fc243840058aa6758dcff500d21b0d70"
   }
  }
 },
 "nbformat": 4,
 "nbformat_minor": 2
}
