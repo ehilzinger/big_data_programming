{
 "cells": [
  {
   "cell_type": "code",
   "execution_count": null,
   "metadata": {},
   "outputs": [],
   "source": [
    "%pip install pandas numpy"
   ]
  },
  {
   "cell_type": "code",
   "execution_count": null,
   "metadata": {},
   "outputs": [],
   "source": [
    "import pandas as pd\n",
    "import numpy as np\n",
    "import time"
   ]
  },
  {
   "cell_type": "code",
   "execution_count": null,
   "metadata": {},
   "outputs": [],
   "source": [
    "# Simulated data stream (replace this with your actual data source)\n",
    "def generate_stream():\n",
    "    while True:\n",
    "        yield np.random.randint(1, 100)\n",
    "        time.sleep(1)  # Simulate data arriving every 1 second\n",
    "\n",
    "# Stream processing function\n",
    "def process_stream():\n",
    "    # Create an empty DataFrame to hold the stream data\n",
    "    df = pd.DataFrame(columns=['Value'])\n",
    "\n",
    "    # Simulate a stream\n",
    "    for i, value in enumerate(generate_stream()):\n",
    "        if(i > 20):\n",
    "            return\n",
    "        # Append the new data to the DataFrame\n",
    "        df = pd.concat([df, pd.DataFrame({'Value': [value]})], ignore_index=True)\n",
    "\n",
    "        # Compute statistics on the stream data (e.g., mean, max)\n",
    "        mean_value = df['Value'].mean()\n",
    "        max_value = df['Value'].max()\n",
    "\n",
    "        # Print the statistics\n",
    "        print(f\"Data Point {i+1}: Value: {value} Mean Value - {mean_value:.2f}, Max Value - {max_value}\")\n",
    "\n",
    "        # Simulate processing time\n",
    "        time.sleep(1)\n",
    "      \n",
    "\n",
    "\n"
   ]
  },
  {
   "cell_type": "code",
   "execution_count": null,
   "metadata": {},
   "outputs": [],
   "source": [
    "print(\"Starting stream processing...\")\n",
    "\n",
    "# Start processing the stream\n",
    "process_stream()"
   ]
  },
  {
   "cell_type": "code",
   "execution_count": null,
   "metadata": {},
   "outputs": [],
   "source": []
  }
 ],
 "metadata": {
  "kernelspec": {
   "display_name": "Python 3.10.6 ('hector')",
   "language": "python",
   "name": "python3"
  },
  "language_info": {
   "codemirror_mode": {
    "name": "ipython",
    "version": 3
   },
   "file_extension": ".py",
   "mimetype": "text/x-python",
   "name": "python",
   "nbconvert_exporter": "python",
   "pygments_lexer": "ipython3",
   "version": "3.10.6"
  },
  "orig_nbformat": 4,
  "vscode": {
   "interpreter": {
    "hash": "442f59ff6058100981594e9535d28b46fc243840058aa6758dcff500d21b0d70"
   }
  }
 },
 "nbformat": 4,
 "nbformat_minor": 2
}
